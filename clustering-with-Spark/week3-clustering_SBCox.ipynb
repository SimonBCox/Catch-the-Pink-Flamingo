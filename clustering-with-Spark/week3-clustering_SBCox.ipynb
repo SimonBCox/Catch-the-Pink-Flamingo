{
 "cells": [
  {
   "cell_type": "code",
   "execution_count": 6,
   "metadata": {},
   "outputs": [],
   "source": [
    "from pyspark.sql import SQLContext\n",
    "from pyspark.sql.functions import *\n",
    "from pyspark.ml.clustering import KMeans\n",
    "from pyspark.ml.feature import VectorAssembler\n",
    "from pyspark.ml.feature import StandardScaler\n",
    "import numpy as np\n",
    "from notebooks import utils"
   ]
  },
  {
   "cell_type": "markdown",
   "metadata": {},
   "source": [
    "<h1>Selecting features</h1>\n",
    "\n",
    "We have seen that the platform type is a strong indicator for the amount of money people are willing to spend on in-game purchases. But this surely won't be the only indicator. In this section we will select three different features and use them in a K-means algorithm to find different groups of players and their relation to in-game purchases.\n",
    "\n",
    "The following features are selected:\n",
    "<ul class=\"simple\">\n",
    "<li> revenuePerTeam &nbsp;&emsp;            [sum(price) group by team]</li>\n",
    "<li> strengthLevelRatio&emsp;                  [strength/currentLevel] </li>\n",
    "<li> teamLifeSpan &emsp;&emsp;&nbsp;&emsp;[teamEndTime - teamCreationTime] </li>"
   ]
  },
  {
   "cell_type": "markdown",
   "metadata": {},
   "source": [
    "First, we will load the .csv files containing the buy-clicks data and the team data."
   ]
  },
  {
   "cell_type": "code",
   "execution_count": 10,
   "metadata": {},
   "outputs": [],
   "source": [
    "sqlContext = SQLContext(sc)\n",
    "\n",
    "buyData = sqlContext.read.load('file:///home/cloudera/courseraDataSimulation-master/capstone/readings/flamingo-data/buy-clicks.csv', \n",
    "                          format='com.databricks.spark.csv', \n",
    "                          header='true',inferSchema='true')\n",
    "teamData = sqlContext.read.load('file:///home/cloudera/courseraDataSimulation-master/capstone/readings/flamingo-data/team.csv', \n",
    "                          format='com.databricks.spark.csv', \n",
    "                          header='true',inferSchema='true')"
   ]
  },
  {
   "cell_type": "markdown",
   "metadata": {},
   "source": [
    "Next, the total spendings of each team is determined and stored in a new dataframe. Also, the column are renamed."
   ]
  },
  {
   "cell_type": "code",
   "execution_count": 11,
   "metadata": {},
   "outputs": [
    {
     "name": "stdout",
     "output_type": "stream",
     "text": [
      "+------+--------------+\n",
      "|teamId|revenuePerTeam|\n",
      "+------+--------------+\n",
      "|     2|         178.0|\n",
      "|     8|         382.0|\n",
      "|     9|         513.0|\n",
      "|    11|         587.0|\n",
      "|    13|         448.0|\n",
      "+------+--------------+\n",
      "only showing top 5 rows\n",
      "\n"
     ]
    }
   ],
   "source": [
    "subData = buyData.groupBy(\"team\").agg(sum(\"price\"))\n",
    "subData = subData.withColumnRenamed('sum(price)', 'revenuePerTeam')\n",
    "subData = subData.withColumnRenamed('team', 'teamId')\n",
    "subData.sort(\"teamId\").show(5)"
   ]
  },
  {
   "cell_type": "markdown",
   "metadata": {},
   "source": [
    "Similarly, we combine the required information and select only the required columns."
   ]
  },
  {
   "cell_type": "code",
   "execution_count": 12,
   "metadata": {},
   "outputs": [
    {
     "name": "stdout",
     "output_type": "stream",
     "text": [
      "+------+------------+------------------+\n",
      "|teamId|teamLifeSpan|strengthLevelRatio|\n",
      "+------+------------+------------------+\n",
      "|     0|251936371622|    0.174879834235|\n",
      "|     1|251936476747|    0.105268242757|\n",
      "|     2|251936415414|    0.146636553695|\n",
      "|     3|251936415851|    0.575897759388|\n",
      "|     4|251936344891|    0.134574686618|\n",
      "+------+------------+------------------+\n",
      "only showing top 5 rows\n",
      "\n"
     ]
    }
   ],
   "source": [
    "teamLifeSpan_col = col(\"teamEndTime\").cast(\"long\") - col(\"teamCreationTime\").cast(\"long\")\n",
    "strengthLevelRatio_col = col(\"strength\") / col(\"currentLevel\")\n",
    "\n",
    "teamData = teamData.withColumn(\"teamLifeSpan\", teamLifeSpan_col)\n",
    "teamData = teamData.withColumn(\"strengthLevelRatio\", strengthLevelRatio_col)\n",
    "teamData = teamData.select(\"teamId\", \"teamLifeSpan\", \"strengthLevelRatio\")\n",
    "teamData.sort(\"teamId\").show(5)"
   ]
  },
  {
   "cell_type": "markdown",
   "metadata": {},
   "source": [
    "<h2> Joining dataframes </h2>\n",
    "Join both dataframes and select only the required column. For all teams that have done no in-game purchases a value of 0 will be inserted in the revenuePerTeam column."
   ]
  },
  {
   "cell_type": "code",
   "execution_count": 13,
   "metadata": {},
   "outputs": [],
   "source": [
    "workingDat = teamData.join(subData, on=['teamId'], how='outer').select(\"teamLifeSpan\", \"strengthLevelRatio\", \"revenuePerTeam\")\n",
    "workingDat = workingDat.na.fill(0)"
   ]
  },
  {
   "cell_type": "markdown",
   "metadata": {},
   "source": [
    "The remaining dataframe has the following dimensions."
   ]
  },
  {
   "cell_type": "code",
   "execution_count": 104,
   "metadata": {},
   "outputs": [
    {
     "name": "stdout",
     "output_type": "stream",
     "text": [
      "169 rows and 3 columns\n"
     ]
    }
   ],
   "source": [
    "print(workingDat.count(), \"rows and\", len(workingDat.columns), \"columns\")"
   ]
  },
  {
   "cell_type": "code",
   "execution_count": 46,
   "metadata": {},
   "outputs": [
    {
     "data": {
      "text/html": [
       "<div>\n",
       "<table border=\"1\" class=\"dataframe\">\n",
       "  <thead>\n",
       "    <tr style=\"text-align: right;\">\n",
       "      <th></th>\n",
       "      <th>0</th>\n",
       "      <th>1</th>\n",
       "      <th>2</th>\n",
       "      <th>3</th>\n",
       "      <th>4</th>\n",
       "    </tr>\n",
       "  </thead>\n",
       "  <tbody>\n",
       "    <tr>\n",
       "      <th>summary</th>\n",
       "      <td>count</td>\n",
       "      <td>mean</td>\n",
       "      <td>stddev</td>\n",
       "      <td>min</td>\n",
       "      <td>max</td>\n",
       "    </tr>\n",
       "    <tr>\n",
       "      <th>teamLifeSpan</th>\n",
       "      <td>169</td>\n",
       "      <td>1.535470142469586E11</td>\n",
       "      <td>1.2327739042364684E11</td>\n",
       "      <td>0</td>\n",
       "      <td>251936558792</td>\n",
       "    </tr>\n",
       "    <tr>\n",
       "      <th>strengthLevelRatio</th>\n",
       "      <td>169</td>\n",
       "      <td>0.31185658308037445</td>\n",
       "      <td>0.32222852216250214</td>\n",
       "      <td>0.0</td>\n",
       "      <td>0.994851162257</td>\n",
       "    </tr>\n",
       "    <tr>\n",
       "      <th>revenuePerTeam</th>\n",
       "      <td>169</td>\n",
       "      <td>126.66863905325444</td>\n",
       "      <td>190.1401338453616</td>\n",
       "      <td>0.0</td>\n",
       "      <td>880.0</td>\n",
       "    </tr>\n",
       "  </tbody>\n",
       "</table>\n",
       "</div>"
      ],
      "text/plain": [
       "                        0                     1                      2    3  \\\n",
       "summary             count                  mean                 stddev  min   \n",
       "teamLifeSpan          169  1.535470142469586E11  1.2327739042364684E11    0   \n",
       "strengthLevelRatio    169   0.31185658308037445    0.32222852216250214  0.0   \n",
       "revenuePerTeam        169    126.66863905325444      190.1401338453616  0.0   \n",
       "\n",
       "                                 4  \n",
       "summary                        max  \n",
       "teamLifeSpan          251936558792  \n",
       "strengthLevelRatio  0.994851162257  \n",
       "revenuePerTeam               880.0  "
      ]
     },
     "execution_count": 46,
     "metadata": {},
     "output_type": "execute_result"
    }
   ],
   "source": [
    "workingDat.describe().toPandas().transpose()"
   ]
  },
  {
   "cell_type": "markdown",
   "metadata": {},
   "source": [
    "<h1> Determining the number of clusters </h1>"
   ]
  },
  {
   "cell_type": "code",
   "execution_count": 14,
   "metadata": {
    "collapsed": true
   },
   "outputs": [],
   "source": [
    "featuresUsed = [\"teamLifeSpan\", \"strengthLevelRatio\", \"revenuePerTeam\"]\n",
    "assembler = VectorAssembler(inputCols=featuresUsed, outputCol='features_unscaled')\n",
    "assembled = assembler.transform(workingDat)"
   ]
  },
  {
   "cell_type": "code",
   "execution_count": 15,
   "metadata": {},
   "outputs": [
    {
     "data": {
      "text/plain": [
       "DataFrame[features: vector]"
      ]
     },
     "execution_count": 15,
     "metadata": {},
     "output_type": "execute_result"
    }
   ],
   "source": [
    "scaler = StandardScaler(inputCol='features_unscaled', outputCol='features', withStd=True, withMean=True)\n",
    "scalerModel = scaler.fit(assembled)\n",
    "scaledData = scalerModel.transform(assembled)\n",
    "scaledData = scaledData.select(\"features\")\n",
    "scaledData.persist()"
   ]
  },
  {
   "cell_type": "code",
   "execution_count": 17,
   "metadata": {},
   "outputs": [
    {
     "name": "stdout",
     "output_type": "stream",
     "text": [
      "Training for cluster size 2 \n",
      "......................WSSE = 162.71608681733414 \n",
      "Training for cluster size 3 \n",
      "......................WSSE = 117.3389903038978 \n",
      "Training for cluster size 4 \n",
      "......................WSSE = 103.79885169168118 \n",
      "Training for cluster size 5 \n",
      "......................WSSE = 87.14623199500267 \n",
      "Training for cluster size 6 \n",
      "......................WSSE = 79.62310516971975 \n",
      "Training for cluster size 7 \n",
      "......................WSSE = 77.9574055370857 \n",
      "Training for cluster size 8 \n",
      "......................WSSE = 70.02664083933175 \n",
      "Training for cluster size 9 \n",
      "......................WSSE = 62.85090018182764 \n",
      "Training for cluster size 10 \n",
      "......................WSSE = 55.34632249176005 \n",
      "Training for cluster size 11 \n",
      "......................WSSE = 50.84824638984663 \n",
      "Training for cluster size 12 \n",
      "......................WSSE = 49.88526301665293 \n",
      "Training for cluster size 13 \n",
      "......................WSSE = 49.873920298234125 \n",
      "Training for cluster size 14 \n",
      "......................WSSE = 49.32388415452426 \n",
      "Training for cluster size 15 \n",
      "......................WSSE = 39.12462140249912 \n",
      "Training for cluster size 16 \n",
      "......................WSSE = 39.93994702210704 \n",
      "Training for cluster size 17 \n",
      "......................WSSE = 39.20607165065764 \n",
      "Training for cluster size 18 \n",
      "......................WSSE = 34.718476933360456 \n",
      "Training for cluster size 19 \n",
      "......................WSSE = 34.97361098054234 \n"
     ]
    }
   ],
   "source": [
    "clusters = range(2, 20)\n",
    "wsseList = utils.elbow(scaledData, clusters)"
   ]
  },
  {
   "cell_type": "code",
   "execution_count": 18,
   "metadata": {},
   "outputs": [
    {
     "data": {
      "image/png": "[encoded data removed]",
      "text/plain": [
       "<matplotlib.figure.Figure at 0x7fd885675438>"
      ]
     },
     "metadata": {},
     "output_type": "display_data"
    }
   ],
   "source": [
    "utils.elbow_plot(wsseList, clusters)"
   ]
  },
  {
   "cell_type": "code",
   "execution_count": 20,
   "metadata": {
    "collapsed": true
   },
   "outputs": [],
   "source": [
    "kmeans = KMeans(k=5, seed=1)\n",
    "model = kmeans.fit(scaledData)\n",
    "transformed = model.transform(scaledData)"
   ]
  },
  {
   "cell_type": "code",
   "execution_count": 22,
   "metadata": {},
   "outputs": [
    {
     "data": {
      "text/plain": [
       "[array([ 0.79811356, -0.09910393,  2.27760802]),\n",
       " array([-1.24554073, -0.93950776, -0.26919232]),\n",
       " array([ 0.79811345, -0.02803835, -0.51249789]),\n",
       " array([ 0.79811367,  1.34517521,  1.47997576]),\n",
       " array([ 0.66626475,  1.42078479, -0.47074411])]"
      ]
     },
     "execution_count": 22,
     "metadata": {},
     "output_type": "execute_result"
    }
   ],
   "source": [
    "centers = model.clusterCenters()\n",
    "centers"
   ]
  },
  {
   "cell_type": "code",
   "execution_count": 24,
   "metadata": {},
   "outputs": [
    {
     "data": {
      "image/png": "[encoded data removed]",
      "text/plain": [
       "<matplotlib.figure.Figure at 0x7fd885516400>"
      ]
     },
     "metadata": {},
     "output_type": "display_data"
    }
   ],
   "source": [
    "p = utils.pd_centers(featuresUsed, centers)\n",
    "utils.parallel_plot(p,p)"
   ]
  },
  {
   "cell_type": "code",
   "execution_count": 45,
   "metadata": {},
   "outputs": [
    {
     "name": "stdout",
     "output_type": "stream",
     "text": [
      "+-----------------------------------------------------------+\n",
      "|features                                                   |\n",
      "+-----------------------------------------------------------+\n",
      "|[0.7981126470549348,1.8683210268022752,-0.6661857046775425]|\n",
      "|[0.79811440149668,-0.10903229119071133,0.07537262468954091]|\n",
      "|[0.7981134832179948,1.7257201329812526,-0.6661857046775425]|\n",
      "|[0.7981124992338304,1.0075422587355498,-0.6661857046775425]|\n",
      "|[0.7981140720688761,1.6268110224931158,3.067902336816281]  |\n",
      "+-----------------------------------------------------------+\n",
      "only showing top 5 rows\n",
      "\n"
     ]
    }
   ],
   "source": [
    "scaledData.show(5, False)"
   ]
  },
  {
   "cell_type": "code",
   "execution_count": null,
   "metadata": {
    "collapsed": true
   },
   "outputs": [],
   "source": []
  }
 ],
 "metadata": {
  "kernelspec": {
   "display_name": "Python 3",
   "language": "python",
   "name": "python3"
  },
  "language_info": {
   "codemirror_mode": {
    "name": "ipython",
    "version": 3
   },
   "file_extension": ".py",
   "mimetype": "text/x-python",
   "name": "python",
   "nbconvert_exporter": "python",
   "pygments_lexer": "ipython3",
   "version": "3.5.4"
  }
 },
 "nbformat": 4,
 "nbformat_minor": 1
}
